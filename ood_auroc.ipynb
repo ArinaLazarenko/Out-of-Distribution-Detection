{
 "cells": [
  {
   "cell_type": "code",
   "execution_count": 16,
   "id": "c29c5e33-6b47-4143-a05c-e5e083076ed5",
   "metadata": {},
   "outputs": [],
   "source": [
    "import numpy as np\n",
    "import tensorflow as tf\n",
    "from tensorflow.keras.models import load_model\n",
    "from tensorflow.keras.datasets import cifar10, cifar100\n",
    "from sklearn.metrics import roc_auc_score"
   ]
  },
  {
   "cell_type": "code",
   "execution_count": 17,
   "id": "6063c7c5-5b6d-4208-8752-bb29b095d33c",
   "metadata": {},
   "outputs": [
    {
     "name": "stderr",
     "output_type": "stream",
     "text": [
      "WARNING:absl:Compiled the loaded model, but the compiled metrics have yet to be built. `model.compile_metrics` will be empty until you train or evaluate the model.\n"
     ]
    },
    {
     "name": "stdout",
     "output_type": "stream",
     "text": [
      "CIFAR-10 Model Evaluation Score (Loss, Accuracy): [0.49271273612976074, 0.8348000049591064]\n"
     ]
    }
   ],
   "source": [
    "model = load_model('cifar10_improved_model_50.h5')\n",
    "\n",
    "# Loading CIFAR-10 dataset (in-distribution)\n",
    "(x_train_cifar10, y_train_cifar10), (x_test_cifar10, y_test_cifar10) = cifar10.load_data()\n",
    "y_test_cifar10 = tf.keras.utils.to_categorical(y_test_cifar10, 10)\n",
    "x_test_cifar10 = x_test_cifar10.astype('float32') / 255.0\n",
    "\n",
    "# Evaluate the model on CIFAR-10 to check its performance on in-distribution data\n",
    "cifar10_score = model.evaluate(x_test_cifar10, y_test_cifar10, verbose=0)\n",
    "print(f\"CIFAR-10 Model Evaluation Score (Loss, Accuracy): {cifar10_score}\")"
   ]
  },
  {
   "cell_type": "code",
   "execution_count": 18,
   "id": "64e0a04a-1df2-4314-8847-8369592c62f2",
   "metadata": {},
   "outputs": [
    {
     "name": "stdout",
     "output_type": "stream",
     "text": [
      "\u001b[1m313/313\u001b[0m \u001b[32m━━━━━━━━━━━━━━━━━━━━\u001b[0m\u001b[37m\u001b[0m \u001b[1m2s\u001b[0m 8ms/step\n",
      "\u001b[1m313/313\u001b[0m \u001b[32m━━━━━━━━━━━━━━━━━━━━\u001b[0m\u001b[37m\u001b[0m \u001b[1m2s\u001b[0m 7ms/step\n"
     ]
    }
   ],
   "source": [
    "# Load CIFAR-100 dataset (out-of-distribution)\n",
    "(x_train_cifar100, y_train_cifar100), (x_test_cifar100, y_test_cifar100) = cifar100.load_data()\n",
    "x_test_cifar100 = x_test_cifar100.astype('float32') / 255.0\n",
    "cifar10_preds = model.predict(x_test_cifar10)\n",
    "cifar100_preds = model.predict(x_test_cifar100)\n",
    "\n",
    "# Since the model was trained on CIFAR-10, the CIFAR-100 data is out-of-distribution.\n",
    "# We can use the maximum probability of the predicted class as a measure of \"confidence\"\n",
    "cifar10_confidence = np.max(cifar10_preds, axis=1)\n",
    "cifar100_confidence = np.max(cifar100_preds, axis=1)\n",
    "\n",
    "# Combine confidence scores for AUROC calculation (in-distribution and out-of-distribution)\n",
    "confidence_scores = np.concatenate([cifar10_confidence, cifar100_confidence])\n",
    "labels = np.concatenate([np.ones(len(cifar10_confidence)), np.zeros(len(cifar100_confidence))])"
   ]
  },
  {
   "cell_type": "code",
   "execution_count": 19,
   "id": "51480f79-1072-4d39-b48a-b921a592dfa5",
   "metadata": {},
   "outputs": [
    {
     "name": "stdout",
     "output_type": "stream",
     "text": [
      "AUROC for Out-of-Distribution Detection: 0.7801\n"
     ]
    }
   ],
   "source": [
    "# Compute AUROC\n",
    "auroc_score = roc_auc_score(labels, confidence_scores)\n",
    "print(f\"AUROC for Out-of-Distribution Detection: {auroc_score:.4f}\")"
   ]
  },
  {
   "cell_type": "code",
   "execution_count": null,
   "id": "c1897270-bcbd-465f-b19e-83556d366a10",
   "metadata": {},
   "outputs": [],
   "source": []
  },
  {
   "cell_type": "code",
   "execution_count": null,
   "id": "daafc2b2-0cb4-4c7d-9d20-575b88e4a082",
   "metadata": {},
   "outputs": [],
   "source": []
  },
  {
   "cell_type": "code",
   "execution_count": null,
   "id": "ba8ce06c-f527-4e7f-a780-f364e4df4221",
   "metadata": {},
   "outputs": [],
   "source": []
  },
  {
   "cell_type": "code",
   "execution_count": null,
   "id": "d001a09a-88b6-4e52-85d7-ffe70307ba65",
   "metadata": {},
   "outputs": [],
   "source": []
  },
  {
   "cell_type": "code",
   "execution_count": null,
   "id": "efa30019-6ed7-43db-9c11-c9350137ce16",
   "metadata": {},
   "outputs": [],
   "source": []
  },
  {
   "cell_type": "code",
   "execution_count": null,
   "id": "89e46e3f-9ed7-447d-a0fb-e97907a81e4f",
   "metadata": {},
   "outputs": [],
   "source": []
  }
 ],
 "metadata": {
  "kernelspec": {
   "display_name": "Python 3 (ipykernel)",
   "language": "python",
   "name": "python3"
  },
  "language_info": {
   "codemirror_mode": {
    "name": "ipython",
    "version": 3
   },
   "file_extension": ".py",
   "mimetype": "text/x-python",
   "name": "python",
   "nbconvert_exporter": "python",
   "pygments_lexer": "ipython3",
   "version": "3.12.8"
  }
 },
 "nbformat": 4,
 "nbformat_minor": 5
}
