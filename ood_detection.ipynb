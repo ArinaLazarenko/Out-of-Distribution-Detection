{
 "cells": [
  {
   "cell_type": "code",
   "execution_count": 127,
   "id": "ed74c209-ffd6-4f8e-b9e7-1dd20d378270",
   "metadata": {},
   "outputs": [],
   "source": [
    "import tensorflow as tf\n",
    "import numpy as np\n",
    "from tensorflow.keras.preprocessing import image\n",
    "from tensorflow.keras.applications import resnet50\n",
    "import matplotlib.pyplot as plt\n",
    "import random"
   ]
  },
  {
   "cell_type": "code",
   "execution_count": 145,
   "id": "71b30bfd-f01a-48be-82d3-f1824b1d72ff",
   "metadata": {},
   "outputs": [],
   "source": [
    "model_path = 'cifar10_improved_model_50.h5' \n",
    "auroc_threshold=0.7801\n",
    "\n",
    "# List of class names in CIFAR-10 dataset\n",
    "class_names_cifar10 = ['airplane', 'automobile', 'bird', 'cat', 'deer', 'dog', 'frog', 'horse', 'ship', 'truck']"
   ]
  },
  {
   "cell_type": "code",
   "execution_count": 129,
   "id": "4634acfe-de1f-4a5a-8daf-79950cefad44",
   "metadata": {},
   "outputs": [],
   "source": [
    "# Load your trained model\n",
    "def load_model(model_path):\n",
    "    model = tf.keras.models.load_model(model_path)\n",
    "    return model"
   ]
  },
  {
   "cell_type": "code",
   "execution_count": 147,
   "id": "dd3ea8da-2919-4095-bb16-9121deec48f9",
   "metadata": {},
   "outputs": [],
   "source": [
    "# Preprocess the input image\n",
    "def preprocess_image(image_path):\n",
    "    img = image.load_img(image_path, target_size=(32, 32)) \n",
    "    img_array = image.img_to_array(img)  \n",
    "    img_array = np.expand_dims(img_array, axis=0)  \n",
    "    img_array = img_array / 255.0  \n",
    "    return img_array, img "
   ]
  },
  {
   "cell_type": "code",
   "execution_count": 146,
   "id": "e74c5d84-fcdf-4cac-a08d-e919ea11d29b",
   "metadata": {},
   "outputs": [],
   "source": [
    "# Function to check and display the loaded image\n",
    "def check_loaded_image(img):\n",
    "    plt.imshow(img)\n",
    "    plt.axis('off')\n",
    "    plt.show()"
   ]
  },
  {
   "cell_type": "code",
   "execution_count": 148,
   "id": "d3c1bd54-c7d7-4f18-98ad-b0ba271af87b",
   "metadata": {},
   "outputs": [],
   "source": [
    "# Function to calculate the OOD score\n",
    "def calculate_ood_score(model, image):\n",
    "    predictions = model(image)\n",
    "    class_scores = predictions.numpy()[0]\n",
    "    \n",
    "    predicted_class_idx = np.argmax(class_scores)  # Index of the highest prediction score\n",
    "    predicted_class_name = class_names[predicted_class_idx]  # Get the class name\n",
    "    ood_score = class_scores[predicted_class_idx]\n",
    "    \n",
    "    return ood_score, class_scores "
   ]
  },
  {
   "cell_type": "code",
   "execution_count": 151,
   "id": "c4bda4c6-cc87-48b0-b7ae-ef3d73012c0a",
   "metadata": {},
   "outputs": [],
   "source": [
    "# Main function to classify the image and check if it is OOD\n",
    "def classify_image(image_path, model):\n",
    "\n",
    "    img_array, img = preprocess_image(image_path)\n",
    "\n",
    "    check_loaded_image(img)\n",
    "\n",
    "    ood_score, class_scores = calculate_ood_score(model, img_array)\n",
    "\n",
    "    predicted_class_name = None\n",
    "\n",
    "    # Check if the OOD score is below the threshold\n",
    "    if ood_score < auroc_threshold:\n",
    "        print(\"Out of Distribution\")\n",
    "        print(f\"OOD Score: {ood_score:.4f}\")\n",
    "        for i, score in enumerate(class_scores):\n",
    "            print(f\"{class_names[i]}: {score:.4f}\")\n",
    "    else:\n",
    "        predicted_class_idx = np.argmax(model(img_array).numpy())  # Get the class with the highest probability\n",
    "        predicted_class_name = class_names[predicted_class_idx]  # Get the class name\n",
    "        print(f\"Predicted Class: {predicted_class_name}\")\n",
    "        print(f\"Prediction Score: {ood_score:.4f}\")"
   ]
  },
  {
   "cell_type": "code",
   "execution_count": 134,
   "id": "ec6f31e7-f769-49b8-8202-3ddfa752ec7e",
   "metadata": {},
   "outputs": [
    {
     "name": "stderr",
     "output_type": "stream",
     "text": [
      "WARNING:absl:Compiled the loaded model, but the compiled metrics have yet to be built. `model.compile_metrics` will be empty until you train or evaluate the model.\n"
     ]
    }
   ],
   "source": [
    "model = load_model(model_path)"
   ]
  },
  {
   "cell_type": "code",
   "execution_count": 135,
   "id": "6dab556e-2b07-429b-b5bc-b27f73ce5f1b",
   "metadata": {},
   "outputs": [
    {
     "data": {
      "image/png": "[encoded data removed]",
      "text/plain": [
       "<Figure size 640x480 with 1 Axes>"
      ]
     },
     "metadata": {},
     "output_type": "display_data"
    },
    {
     "name": "stdout",
     "output_type": "stream",
     "text": [
      "Out of Distribution\n",
      "OOD Score: 0.4608\n",
      "airplane: 0.2070\n",
      "automobile: 0.0001\n",
      "bird: 0.0057\n",
      "cat: 0.0004\n",
      "deer: 0.0304\n",
      "dog: 0.0000\n",
      "frog: 0.2925\n",
      "horse: 0.0001\n",
      "ship: 0.4608\n",
      "truck: 0.0031\n"
     ]
    }
   ],
   "source": [
    "# image_path = 'photos/dog.jpg'\n",
    "# image_path = 'photos/plane.jpg'\n",
    "# image_path = 'photos/flower.jpg'\n",
    "# image_path = 'photos/girl.jpg'\n",
    "image_path = 'photos/ship.jpg'\n",
    "\n",
    "classify_image(image_path, model)"
   ]
  },
  {
   "cell_type": "code",
   "execution_count": null,
   "id": "3925b788-d7ad-41aa-be02-80a544e4de18",
   "metadata": {},
   "outputs": [],
   "source": []
  },
  {
   "cell_type": "code",
   "execution_count": null,
   "id": "4c4a6fe7-9881-42c8-964b-66e209998dab",
   "metadata": {},
   "outputs": [],
   "source": []
  },
  {
   "cell_type": "code",
   "execution_count": null,
   "id": "9bacb9a7-2bf0-4f8e-9e11-a8f284175363",
   "metadata": {},
   "outputs": [],
   "source": []
  },
  {
   "cell_type": "code",
   "execution_count": null,
   "id": "08a47dab-a156-4fb1-8267-5b7b74a3ed59",
   "metadata": {},
   "outputs": [],
   "source": []
  },
  {
   "cell_type": "code",
   "execution_count": 136,
   "id": "7918b102-6334-4a12-9a91-70e8c0cb8e49",
   "metadata": {},
   "outputs": [],
   "source": [
    "# List of class names in CIFAR-100 dataset\n",
    "class_names_cifar100 = [\n",
    "    'apple', 'aquarium_fish', 'baby', 'backpack', 'banana', 'baseball_bat', 'beetle', 'bicycle', 'bottle', 'bowl',\n",
    "    'boy', 'bridge', 'bus', 'butterfly', 'camel', 'can', 'castle', 'caterpillar', 'cattle', 'chair',\n",
    "    'chimpanzee', 'clock', 'cloud', 'cockroach', 'couch', 'crab', 'crocodile', 'cup', 'dinosaur', 'dog',\n",
    "    'donut', 'dragonfly', 'electric_guitar', 'elephant', 'flatfish', 'forest', 'fox', 'frog', 'girl', 'hamster',\n",
    "    'house', 'kangaroo', 'keyboard', 'lamp', 'lawn_mower', 'leopard', 'lion', 'lizard', 'lobster', 'man',\n",
    "    'maple_tree', 'motorcycle', 'mountain', 'mouse', 'mushroom', 'oak_tree', 'orange', 'orchid', 'otter', 'palm_tree',\n",
    "    'pear', 'pickup_truck', 'pine_tree', 'plain', 'plate', 'poppy', 'porcupine', 'rabbit', 'railroad_train', 'rocket',\n",
    "    'rose', 'sea', 'seal', 'shark', 'shrew', 'skunk', 'skyscraper', 'snake', 'spider', 'squirrel', 'starfish',\n",
    "    'streetcar', 'sunflower', 'sweet_pepper', 'table', 'tank', 'telephone', 'television', 'tiger', 'tractor',\n",
    "    'train', 'tropical_fish', 'truck', 'umbrella', 'watch', 'waterfall', 'whale', 'wheat', 'zebra'\n",
    "]"
   ]
  },
  {
   "cell_type": "code",
   "execution_count": 137,
   "id": "55d17883-c6a7-412a-b4a4-c21b1e250bea",
   "metadata": {},
   "outputs": [],
   "source": [
    "# Preprocess the CIFAR image \n",
    "def preprocess_images_cifar(image_array):\n",
    "    img_array = np.expand_dims(image_array, axis=0)\n",
    "    img_array = img_array / 255.0  \n",
    "    return img_array"
   ]
  },
  {
   "cell_type": "code",
   "execution_count": 149,
   "id": "5eb96438-22bd-4058-b6b0-50445b67c883",
   "metadata": {},
   "outputs": [],
   "source": [
    "def check_loaded_images_cifar(img_array):\n",
    "    img_array_display = np.squeeze(img_array) * 255.0\n",
    "    plt.figure(figsize=(2, 2)) \n",
    "    plt.imshow(img_array_display.astype(np.uint8))\n",
    "    plt.axis('off') \n",
    "    plt.show()"
   ]
  },
  {
   "cell_type": "code",
   "execution_count": 139,
   "id": "175e6622-c9d1-482f-863a-089d15f78af7",
   "metadata": {},
   "outputs": [],
   "source": [
    "# Load CIFAR-10 and CIFAR-100 datasets\n",
    "(x_train_cifar10, y_train_cifar10), (_, _) = tf.keras.datasets.cifar10.load_data()\n",
    "(x_train_cifar100, y_train_cifar100), (_, _) = tf.keras.datasets.cifar100.load_data()"
   ]
  },
  {
   "cell_type": "code",
   "execution_count": 150,
   "id": "2b726d49-00e5-4dfb-9803-ec23f49c4dc1",
   "metadata": {},
   "outputs": [],
   "source": [
    "# Main function to classify the image and check if it is OOD\n",
    "def classify_images_cifar(image_array, model, class_names, auroc_threshold=0.7801):\n",
    "\n",
    "    img_array = preprocess_images_cifar(image_array)\n",
    "\n",
    "    check_loaded_images_cifar(image_array)\n",
    "\n",
    "    ood_score, class_scores = calculate_ood_score(model, img_array)\n",
    "\n",
    "    predicted_class_name = None\n",
    "\n",
    "    # Check if the OOD score is below the threshold\n",
    "    if ood_score < auroc_threshold:\n",
    "        print(\"Out of Distribution\")\n",
    "        for i, score in enumerate(class_scores):\n",
    "            print(f\"{class_names[i]}: {score:.4f}\")\n",
    "    else:\n",
    "        predicted_class_idx = np.argmax(model(img_array).numpy())  # Get the class with the highest probability\n",
    "        predicted_class_name = class_names[predicted_class_idx]  # Get the class name\n",
    "        print(f\"Predicted Class: {predicted_class_name}\")\n",
    "        print(f\"Prediction Score: {ood_score:.4f}\")\n",
    "    return predicted_class_name"
   ]
  },
  {
   "cell_type": "code",
   "execution_count": 143,
   "id": "31e30585-ac85-4617-b223-c1bb7fe7c2d4",
   "metadata": {},
   "outputs": [],
   "source": [
    "def get_and_classify_random_images(amount, model, cifar10_data, cifar100_data, class_names_cifar10, class_names_cifar100, auroc_threshold=0.7801):\n",
    "    \n",
    "    for i in range(5):\n",
    "        cifar10_idx = random.randint(0, len(cifar10_data[0]) - 1)\n",
    "        cifar10_image = cifar10_data[0][cifar10_idx]\n",
    "        cifar10_true_label = cifar10_data[1][cifar10_idx].item()\n",
    "        print(f\"\\nClassifying CIFAR-10 image (True Class: {class_names_cifar10[cifar10_true_label]})\")\n",
    "        predict_class_cifar10 = classify_images_cifar(cifar10_image, model, class_names_cifar10, auroc_threshold)\n",
    "\n",
    "    for i in range(5):\n",
    "        cifar100_idx = random.randint(0, len(cifar100_data[0]) - 1)\n",
    "        cifar100_image = cifar100_data[0][cifar100_idx]\n",
    "        cifar100_true_label = cifar100_data[1][cifar100_idx].item() \n",
    "        print(f\"\\nClassifying CIFAR-100 image (True Class: {class_names_cifar100[cifar100_true_label]})\")\n",
    "        predict_class_cifar100 = classify_images_cifar(cifar100_image, model, class_names_cifar100, auroc_threshold)"
   ]
  },
  {
   "cell_type": "code",
   "execution_count": 144,
   "id": "baa006aa-9160-4108-8e36-6c3d3b8bc628",
   "metadata": {},
   "outputs": [
    {
     "name": "stdout",
     "output_type": "stream",
     "text": [
      "\n",
      "Classifying CIFAR-10 image (True Class: automobile)\n"
     ]
    },
    {
     "data": {
      "image/png": "[encoded data removed]",
      "text/plain": [
       "<Figure size 200x200 with 1 Axes>"
      ]
     },
     "metadata": {},
     "output_type": "display_data"
    },
    {
     "name": "stdout",
     "output_type": "stream",
     "text": [
      "Predicted Class: automobile\n",
      "Prediction Score: 0.9999\n",
      "\n",
      "Classifying CIFAR-10 image (True Class: truck)\n"
     ]
    },
    {
     "data": {
      "image/png": "[encoded data removed]",
      "text/plain": [
       "<Figure size 200x200 with 1 Axes>"
      ]
     },
     "metadata": {},
     "output_type": "display_data"
    },
    {
     "name": "stdout",
     "output_type": "stream",
     "text": [
      "Predicted Class: truck\n",
      "Prediction Score: 0.9999\n",
      "\n",
      "Classifying CIFAR-10 image (True Class: ship)\n"
     ]
    },
    {
     "data": {
      "image/png": "[encoded data removed]",
      "text/plain": [
       "<Figure size 200x200 with 1 Axes>"
      ]
     },
     "metadata": {},
     "output_type": "display_data"
    },
    {
     "name": "stdout",
     "output_type": "stream",
     "text": [
      "Predicted Class: ship\n",
      "Prediction Score: 0.9844\n",
      "\n",
      "Classifying CIFAR-10 image (True Class: automobile)\n"
     ]
    },
    {
     "data": {
      "image/png": "[encoded data removed]",
      "text/plain": [
       "<Figure size 200x200 with 1 Axes>"
      ]
     },
     "metadata": {},
     "output_type": "display_data"
    },
    {
     "name": "stdout",
     "output_type": "stream",
     "text": [
      "Predicted Class: automobile\n",
      "Prediction Score: 0.9989\n",
      "\n",
      "Classifying CIFAR-10 image (True Class: cat)\n"
     ]
    },
    {
     "data": {
      "image/png": "[encoded data removed]",
      "text/plain": [
       "<Figure size 200x200 with 1 Axes>"
      ]
     },
     "metadata": {},
     "output_type": "display_data"
    },
    {
     "name": "stdout",
     "output_type": "stream",
     "text": [
      "Out of Distribution\n",
      "airplane: 0.0020\n",
      "automobile: 0.0007\n",
      "bird: 0.0364\n",
      "cat: 0.7756\n",
      "deer: 0.0000\n",
      "dog: 0.1446\n",
      "frog: 0.0051\n",
      "horse: 0.0352\n",
      "ship: 0.0000\n",
      "truck: 0.0002\n",
      "\n",
      "Classifying CIFAR-100 image (True Class: pear)\n"
     ]
    },
    {
     "data": {
      "image/png": "[encoded data removed]",
      "text/plain": [
       "<Figure size 200x200 with 1 Axes>"
      ]
     },
     "metadata": {},
     "output_type": "display_data"
    },
    {
     "name": "stdout",
     "output_type": "stream",
     "text": [
      "Predicted Class: bottle\n",
      "Prediction Score: 0.9504\n",
      "\n",
      "Classifying CIFAR-100 image (True Class: crab)\n"
     ]
    },
    {
     "data": {
      "image/png": "[encoded data removed]",
      "text/plain": [
       "<Figure size 200x200 with 1 Axes>"
      ]
     },
     "metadata": {},
     "output_type": "display_data"
    },
    {
     "name": "stdout",
     "output_type": "stream",
     "text": [
      "Predicted Class: apple\n",
      "Prediction Score: 0.9307\n",
      "\n",
      "Classifying CIFAR-100 image (True Class: cockroach)\n"
     ]
    },
    {
     "data": {
      "image/png": "[encoded data removed]",
      "text/plain": [
       "<Figure size 200x200 with 1 Axes>"
      ]
     },
     "metadata": {},
     "output_type": "display_data"
    },
    {
     "name": "stdout",
     "output_type": "stream",
     "text": [
      "Out of Distribution\n",
      "apple: 0.3212\n",
      "aquarium_fish: 0.0001\n",
      "baby: 0.0020\n",
      "backpack: 0.0055\n",
      "banana: 0.0716\n",
      "baseball_bat: 0.0008\n",
      "beetle: 0.0041\n",
      "bicycle: 0.0001\n",
      "bottle: 0.5881\n",
      "bowl: 0.0066\n",
      "\n",
      "Classifying CIFAR-100 image (True Class: bottle)\n"
     ]
    },
    {
     "data": {
      "image/png": "[encoded data removed]",
      "text/plain": [
       "<Figure size 200x200 with 1 Axes>"
      ]
     },
     "metadata": {},
     "output_type": "display_data"
    },
    {
     "name": "stdout",
     "output_type": "stream",
     "text": [
      "Predicted Class: bicycle\n",
      "Prediction Score: 0.8936\n",
      "\n",
      "Classifying CIFAR-100 image (True Class: rabbit)\n"
     ]
    },
    {
     "data": {
      "image/png": "[encoded data removed]",
      "text/plain": [
       "<Figure size 200x200 with 1 Axes>"
      ]
     },
     "metadata": {},
     "output_type": "display_data"
    },
    {
     "name": "stdout",
     "output_type": "stream",
     "text": [
      "Out of Distribution\n",
      "apple: 0.6578\n",
      "aquarium_fish: 0.0000\n",
      "baby: 0.0531\n",
      "backpack: 0.0113\n",
      "banana: 0.0085\n",
      "baseball_bat: 0.0009\n",
      "beetle: 0.0056\n",
      "bicycle: 0.0005\n",
      "bottle: 0.2621\n",
      "bowl: 0.0002\n"
     ]
    }
   ],
   "source": [
    "amount = 5\n",
    "get_and_classify_random_images(amount, model, (x_train_cifar10, y_train_cifar10), (x_train_cifar100, y_train_cifar100), class_names_cifar10, class_names_cifar100)"
   ]
  },
  {
   "cell_type": "code",
   "execution_count": null,
   "id": "235fbc50-5291-4443-a4b7-278ec81528c4",
   "metadata": {},
   "outputs": [],
   "source": []
  }
 ],
 "metadata": {
  "kernelspec": {
   "display_name": "Python 3 (ipykernel)",
   "language": "python",
   "name": "python3"
  },
  "language_info": {
   "codemirror_mode": {
    "name": "ipython",
    "version": 3
   },
   "file_extension": ".py",
   "mimetype": "text/x-python",
   "name": "python",
   "nbconvert_exporter": "python",
   "pygments_lexer": "ipython3",
   "version": "3.12.8"
  }
 },
 "nbformat": 4,
 "nbformat_minor": 5
}
